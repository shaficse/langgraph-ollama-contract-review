{
 "cells": [
  {
   "cell_type": "markdown",
   "id": "4c7d64ec",
   "metadata": {},
   "source": [
    "# Tutorial: Building a Legal Contract Review Workflow with LangGraph and Ollama\n",
    "\n",
    "This tutorial walks you through creating a **static LangGraph workflow** to analyze plain-text legal contracts using the **LLaMA 3** model via **Ollama**."
   ]
  },
  {
   "cell_type": "markdown",
   "id": "747ac847",
   "metadata": {},
   "source": [
    "## Step 1: Initialize LLM"
   ]
  },
  {
   "cell_type": "markdown",
   "id": "f28e74f2",
   "metadata": {},
   "source": [
    "import and initialize the LLM:"
   ]
  },
  {
   "cell_type": "code",
   "execution_count": 36,
   "id": "6c87dd34",
   "metadata": {},
   "outputs": [],
   "source": [
    "from langchain_community.llms import Ollama\n",
    "# Ensure the llama3 model is running via `ollama run llama3`\n",
    "llm = Ollama(model=\"llama3\")"
   ]
  },
  {
   "cell_type": "markdown",
   "id": "761ddc7d",
   "metadata": {},
   "source": [
    "## Step 2: Define the State\n",
    "\n"
   ]
  },
  {
   "cell_type": "markdown",
   "id": "b02ffccf",
   "metadata": {},
   "source": [
    "\n",
    "Use a `TypedDict` to formalize the data passed between nodes:"
   ]
  },
  {
   "cell_type": "code",
   "execution_count": 37,
   "id": "3f5628c6",
   "metadata": {},
   "outputs": [],
   "source": [
    "from typing import TypedDict\n",
    "\n",
    "class State(TypedDict):\n",
    "    contract: str\n",
    "    clauses: list[str]\n",
    "    classifications: list[dict]\n",
    "    risks: list[str]\n",
    "    summary: str"
   ]
  },
  {
   "cell_type": "markdown",
   "id": "5114c024",
   "metadata": {},
   "source": [
    "* **contract**: the raw text\n",
    "* **clauses**: list of extracted lines\n",
    "* **classifications**: each clause’s label\n",
    "* **risks**: identified risk descriptions\n",
    "* **summary**: plain‑language summary"
   ]
  },
  {
   "cell_type": "markdown",
   "id": "f7cec1d2",
   "metadata": {},
   "source": [
    "## Step 3: Implement Nodes\n"
   ]
  },
  {
   "cell_type": "markdown",
   "id": "31c692cb",
   "metadata": {},
   "source": [
    "Write four pure functions that accept and return `State`:\n",
    "\n",
    "1. **`extract_clauses`**: splits the contract text into non‑empty lines.\n",
    "2. **`classify_clauses`**: calls the LLM to label each clause.\n",
    "3. **`detect_risks`**: asks the LLM to identify risky clauses.\n",
    "4. **`summarize_contract`**: generates a high‑level summary."
   ]
  },
  {
   "cell_type": "code",
   "execution_count": 38,
   "id": "26ff9c44",
   "metadata": {},
   "outputs": [],
   "source": [
    "def extract_clauses(state: State) -> State:\n",
    "    # Basic clause splitting by line breaks or semicolons\n",
    "    text = state[\"contract\"]\n",
    "    clauses = [c.strip() for c in text.split(\"\\n\") if c.strip()]\n",
    "    return {**state, \"clauses\": clauses}\n",
    "\n",
    "def classify_clauses(state: State) -> State:\n",
    "    results = []\n",
    "    for clause in state[\"clauses\"]:\n",
    "        prompt = f\"What is the legal category of this clause?\\n\\n\\\"{clause}\\\"\\n\\nRespond with a short label like 'NDA', 'Termination', 'Payment Terms', etc.\"\n",
    "        label = llm.invoke(prompt).strip()\n",
    "        results.append({\"clause\": clause, \"label\": label})\n",
    "    return {**state, \"classifications\": results}\n",
    "\n",
    "def detect_risks(state: State) -> State:\n",
    "    risks = []\n",
    "    for item in state[\"classifications\"]:\n",
    "        clause = item[\"clause\"]\n",
    "        label = item[\"label\"]\n",
    "        prompt = f\"Assess the following clause for legal risks. Be concise.\\n\\nLabel: {label}\\nClause: \\\"{clause}\\\"\\n\\nRisk:\"\n",
    "        risk = llm.invoke(prompt).strip()\n",
    "        if \"no risk\" not in risk.lower():\n",
    "            risks.append(f\"{label}: {risk}\")\n",
    "    return {**state, \"risks\": risks}\n",
    "\n",
    "def summarize_contract(state: State) -> State:\n",
    "    prompt = \"Summarize this contract in simple language:\\n\\n\" + state[\"contract\"]\n",
    "    summary = llm.invoke(prompt).strip()\n",
    "    return {**state, \"summary\": summary}"
   ]
  },
  {
   "cell_type": "markdown",
   "id": "264977db",
   "metadata": {},
   "source": [
    "## Step 4: Build the Graph\n"
   ]
  },
  {
   "cell_type": "markdown",
   "id": "4a8977e7",
   "metadata": {},
   "source": [
    "Wire up the nodes in a **LangGraph** pipeline:"
   ]
  },
  {
   "cell_type": "code",
   "execution_count": 39,
   "id": "437437dd",
   "metadata": {},
   "outputs": [
    {
     "data": {
      "text/plain": [
       "<langgraph.graph.state.StateGraph at 0x79374f447fa0>"
      ]
     },
     "execution_count": 39,
     "metadata": {},
     "output_type": "execute_result"
    }
   ],
   "source": [
    "# ---- Step 4: Build LangGraph ----\n",
    "from langgraph.graph import StateGraph\n",
    "graph = StateGraph(State)\n",
    "\n",
    "graph.add_node(\"extract_clauses\", extract_clauses)\n",
    "graph.add_node(\"classify_clauses\", classify_clauses)\n",
    "graph.add_node(\"detect_risks\", detect_risks)\n",
    "graph.add_node(\"summarize_contract\", summarize_contract)\n",
    "\n",
    "graph.set_entry_point(\"extract_clauses\")\n",
    "graph.add_edge(\"extract_clauses\", \"classify_clauses\")\n",
    "graph.add_edge(\"classify_clauses\", \"detect_risks\")\n",
    "graph.add_edge(\"detect_risks\", \"summarize_contract\")\n",
    "graph.set_finish_point(\"summarize_contract\")"
   ]
  },
  {
   "cell_type": "markdown",
   "id": "12972020",
   "metadata": {},
   "source": [
    "## Step 5: Compile and Run"
   ]
  },
  {
   "cell_type": "markdown",
   "id": "803ef97d",
   "metadata": {},
   "source": [
    "### Compile the workflow"
   ]
  },
  {
   "cell_type": "code",
   "execution_count": 40,
   "id": "42c22bdb",
   "metadata": {},
   "outputs": [],
   "source": [
    "app = graph.compile()"
   ]
  },
  {
   "cell_type": "markdown",
   "id": "7095cd02",
   "metadata": {},
   "source": [
    "### Visualizing the Workflow"
   ]
  },
  {
   "cell_type": "markdown",
   "id": "855ae47f",
   "metadata": {},
   "source": [
    "\n",
    "Inside a Jupyter environment, render the graph:"
   ]
  },
  {
   "cell_type": "code",
   "execution_count": 41,
   "id": "63f9d16e",
   "metadata": {},
   "outputs": [],
   "source": [
    "from IPython.display import Image, display"
   ]
  },
  {
   "cell_type": "code",
   "execution_count": 42,
   "id": "3155ac11",
   "metadata": {},
   "outputs": [
    {
     "data": {
      "image/png": "[encoded data removed]",
      "text/plain": [
       "<IPython.core.display.Image object>"
      ]
     },
     "metadata": {},
     "output_type": "display_data"
    }
   ],
   "source": [
    "png = app.get_graph().draw_mermaid_png()\n",
    "display(Image(png))"
   ]
  },
  {
   "cell_type": "markdown",
   "id": "8eca937c",
   "metadata": {},
   "source": [
    "### Sample Output"
   ]
  },
  {
   "cell_type": "code",
   "execution_count": 43,
   "id": "cb6825d8",
   "metadata": {},
   "outputs": [
    {
     "name": "stdout",
     "output_type": "stream",
     "text": [
      "\n",
      "--- Summary ---\n",
      "Here's a summary of the contract in simple language:\n",
      "\n",
      "**What it's about:** This agreement is between two parties (A and B) for allowing Party A to use some software owned by Party B.\n",
      "\n",
      "**How long:** The license will be valid for 2 years, with an option to renew after that.\n",
      "\n",
      "**Payment:** Party A will pay Party B every quarter (every 3 months).\n",
      "\n",
      "**Ending the agreement:** Either party can end the agreement by giving the other side 30 days' notice.\n",
      "\n",
      "**Responsibility:** If someone makes a claim about the software being used in a way that's not allowed, Party A (the one using the software) will be responsible for fixing it and paying any costs.\n",
      "\n",
      "--- Risks ---\n",
      "- 'Introduction/Scope': **Moderate Risk**\n",
      "\n",
      "The clause lacks essential details, leaving room for disputes about the scope of the agreement, the type of license being granted (e.g., perpetual, subscription-based), and the parties' rights and obligations. Clarifying these points could mitigate legal risks.\n",
      "- \"Term/Duration\": Moderate risk:\n",
      "\n",
      "* Unclear termination notice period: The clause doesn't specify how much notice, if any, is required to terminate the license upon expiration of the initial term or at the end of subsequent renewal periods.\n",
      "* Ambiguity around automatic renewal: The phrase \"renewal option\" could be interpreted as implying automatic renewal unless the parties explicitly decline, which may not align with the intended meaning.\n",
      "\n",
      "Recommendation:\n",
      "\n",
      "* Clarify the termination notice period (e.g., 30 days) to avoid disputes over timely notice.\n",
      "* Specify that the license will only renew if both parties agree in writing within a certain timeframe (e.g., 60 days before expiration) to ensure mutual consent.\n",
      "- 'Payment Terms': Based on this brief clause, I assess the following legal risk:\n",
      "\n",
      "**Risk:** Unclear payment schedule and potential disputes over late payments or missed quarters.\n",
      "\n",
      "This clause lacks specific details about when exactly during each quarter payment is due, which may lead to misunderstandings and conflicts between the parties.\n",
      "- \"Termination\": Based on this clause, here are some potential legal risks:\n",
      "\n",
      "* Insufficient notice period: 30 days' notice may not be sufficient to allow the other party to prepare for termination or comply with any applicable notice requirements.\n",
      "* Lack of clarity: The clause does not specify the circumstances under which termination is permitted, which could lead to disputes about whether the contract can be terminated without just cause.\n",
      "* Uncertainty about effect of notice: The clause does not address what happens if one party gives notice and the other party fails to respond or accepts the notice. This could create uncertainty about whether the contract is still in effect.\n",
      "\n",
      "Overall, this clause may require further clarification or modification to minimize legal risks.\n",
      "- \"Indemnification\": Based on this concise clause, I identify the following legal risk:\n",
      "\n",
      "* **Unclear scope of liability**: The phrase \"all claims\" is too broad and may lead to unintended liabilities for the licensee. Without further definition or limitation, it's unclear what types of claims are covered, potentially exposing the licensee to unforeseen risks.\n",
      "\n",
      "Recommendation: Clarify the scope of indemnification by specifying the types of claims or damages that are covered, e.g., \"The licensee shall indemnify the licensor against all claims arising from the use or misuse of the licensed technology.\"\n",
      "\n",
      "--- Classified Clauses ---\n",
      "['Introduction/Scope'] This agreement is between Party A and Party B for software licensing.\n",
      "[\"Term/Duration\"] The license is granted for 2 years with a renewal option.\n",
      "['Payment Terms'] Payment shall be made quarterly.\n",
      "[\"Termination\"] The contract may be terminated with 30 days' notice.\n",
      "[\"Indemnification\"] The licensee shall indemnify the licensor against all claims.\n"
     ]
    }
   ],
   "source": [
    "contract_text = \"\"\"\n",
    "This agreement is between Party A and Party B for software licensing.\n",
    "The license is granted for 2 years with a renewal option.\n",
    "Payment shall be made quarterly.\n",
    "The contract may be terminated with 30 days' notice.\n",
    "The licensee shall indemnify the licensor against all claims.\n",
    "\"\"\"\n",
    "\n",
    "response = app.invoke({\"contract\": contract_text})\n",
    "\n",
    "print(\"\\n--- Summary ---\")\n",
    "print(response[\"summary\"])\n",
    "\n",
    "print(\"\\n--- Risks ---\")\n",
    "for r in response[\"risks\"]:\n",
    "    print(f\"- {r}\")\n",
    "\n",
    "print(\"\\n--- Classified Clauses ---\")\n",
    "for c in response[\"classifications\"]:\n",
    "    print(f\"[{c['label']}] {c['clause']}\")"
   ]
  },
  {
   "cell_type": "markdown",
   "id": "4ad274d7",
   "metadata": {},
   "source": []
  },
  {
   "cell_type": "code",
   "execution_count": null,
   "id": "2cc4533f",
   "metadata": {},
   "outputs": [],
   "source": []
  }
 ],
 "metadata": {
  "kernelspec": {
   "display_name": "langGraph",
   "language": "python",
   "name": "python3"
  },
  "language_info": {
   "codemirror_mode": {
    "name": "ipython",
    "version": 3
   },
   "file_extension": ".py",
   "mimetype": "text/x-python",
   "name": "python",
   "nbconvert_exporter": "python",
   "pygments_lexer": "ipython3",
   "version": "3.10.18"
  }
 },
 "nbformat": 4,
 "nbformat_minor": 5
}
